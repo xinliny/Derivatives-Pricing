{
 "cells": [
  {
   "cell_type": "markdown",
   "id": "73f55dc8",
   "metadata": {},
   "source": [
    "#### Computational Methods in Finance Project 4"
   ]
  },
  {
   "cell_type": "markdown",
   "id": "bf14c5fe",
   "metadata": {},
   "source": [
    "Xinlin Yuan"
   ]
  },
  {
   "cell_type": "code",
   "execution_count": 1,
   "id": "9ed374c4",
   "metadata": {},
   "outputs": [],
   "source": [
    "import pandas as pd\n",
    "import pandas_datareader.data as web\n",
    "import numpy as np\n",
    "import random\n",
    "import matplotlib.pyplot as plt\n",
    "import scipy.stats\n",
    "from scipy.stats import norm\n",
    "import math\n",
    "import importlib\n",
    "import function\n",
    "importlib.reload(function)\n",
    "import yfinance as yf\n",
    "\n",
    "import warnings\n",
    "warnings.filterwarnings('ignore')"
   ]
  },
  {
   "cell_type": "markdown",
   "id": "2dafc222",
   "metadata": {},
   "source": [
    "#### Question 1"
   ]
  },
  {
   "cell_type": "code",
   "execution_count": 2,
   "id": "9614fbd2",
   "metadata": {},
   "outputs": [],
   "source": [
    "def combos(n, i):\n",
    "    return math.factorial(n) / (math.factorial(n-i)*math.factorial(i))"
   ]
  },
  {
   "cell_type": "code",
   "execution_count": 3,
   "id": "1fe83b2d",
   "metadata": {},
   "outputs": [],
   "source": [
    "r = 0.05\n",
    "t = 0.5\n",
    "s0 = 32\n",
    "k = 30\n",
    "sigma = 0.24"
   ]
  },
  {
   "cell_type": "code",
   "execution_count": 4,
   "id": "ffc6cb89",
   "metadata": {},
   "outputs": [],
   "source": [
    "# a\n",
    "def binom_e_call_1(s0, k, r, t, sigma, n):\n",
    "    dt = t/n\n",
    "    c = (np.exp(-r*dt) + np.exp((r+sigma**2)*dt)) / 2\n",
    "    d = c - np.sqrt(c**2 - 1)\n",
    "    u = 1/d\n",
    "    p = (np.exp(r*dt)-d) / (u-d)\n",
    "    value = 0\n",
    "    for i in range(n+1):\n",
    "        node_prob = combos(n,i) * p**i * (1-p)**(n-i)\n",
    "        st = s0 * u**i * d**(n-i)\n",
    "        value += max(st-k,0) * node_prob\n",
    "    return value * np.exp(-r*t)\n",
    "\n",
    "n = [10,20,40,80,100,200,500]\n",
    "price1 = []\n",
    "for i in n:\n",
    "    price1.append(binom_e_call_1(s0, k, r, t, sigma, i))"
   ]
  },
  {
   "cell_type": "code",
   "execution_count": 5,
   "id": "d66258ff",
   "metadata": {},
   "outputs": [],
   "source": [
    "# b\n",
    "def binom_e_call_2(s0, k, r, t, sigma, n):\n",
    "    dt = t/n\n",
    "    u = np.exp(r*dt) * (1 + np.sqrt(np.exp((sigma**2)*dt)-1))\n",
    "    d = np.exp(r*dt) * (1 - np.sqrt(np.exp((sigma**2)*dt)-1))\n",
    "    p = 1/2\n",
    "    value = 0\n",
    "    for i in range(n+1):\n",
    "        node_prob = combos(n,i) * p**i * (1-p)**(n-i)\n",
    "        st = s0 * u**i * d**(n-i)\n",
    "        value += max(st-k,0) * node_prob\n",
    "    return value * np.exp(-r*t)\n",
    "\n",
    "n = [10,20,40,80,100,200,500]\n",
    "price2 = []\n",
    "for i in n:\n",
    "    price2.append(binom_e_call_2(s0, k, r, t, sigma, i))"
   ]
  },
  {
   "cell_type": "code",
   "execution_count": 6,
   "id": "048646a2",
   "metadata": {},
   "outputs": [],
   "source": [
    "# c\n",
    "def binom_e_call_3(s0, k, r, t, sigma, n):\n",
    "    dt = t/n\n",
    "    u = np.exp((r - sigma**2/2)*dt + sigma*np.sqrt(dt))\n",
    "    d = np.exp((r - sigma**2/2)*dt - sigma*np.sqrt(dt))\n",
    "    p = 1/2\n",
    "    value = 0\n",
    "    for i in range(n+1):\n",
    "        node_prob = combos(n,i) * p**i * (1-p)**(n-i)\n",
    "        st = s0 * u**i * d**(n-i)\n",
    "        value += max(st-k,0) * node_prob\n",
    "    return value * np.exp(-r*t)\n",
    "\n",
    "n = [10,20,40,80,100,200,500]\n",
    "price3 = []\n",
    "for i in n:\n",
    "    price3.append(binom_e_call_3(s0, k, r, t, sigma, i))"
   ]
  },
  {
   "cell_type": "code",
   "execution_count": 7,
   "id": "3c0b0373",
   "metadata": {},
   "outputs": [],
   "source": [
    "# d\n",
    "def binom_e_call_4(s0, k, r, t, sigma, n):\n",
    "    dt = t/n\n",
    "    u = np.exp(sigma*np.sqrt(dt))\n",
    "    d = np.exp(-sigma*np.sqrt(dt))\n",
    "    p = 1/2 + 1/2*((r-sigma**2/2)*np.sqrt(dt)/sigma)\n",
    "    value = 0\n",
    "    for i in range(n+1):\n",
    "        node_prob = combos(n,i) * p**i * (1-p)**(n-i)\n",
    "        st = s0 * u**i * d**(n-i)\n",
    "        value += max(st-k,0) * node_prob\n",
    "    return value * np.exp(-r*t)\n",
    "\n",
    "n = [10,20,40,80,100,200,500]\n",
    "price4 = []\n",
    "for i in n:\n",
    "    price4.append(binom_e_call_4(s0, k, r, t, sigma, i))"
   ]
  },
  {
   "cell_type": "code",
   "execution_count": 8,
   "id": "30b07039",
   "metadata": {},
   "outputs": [
    {
     "data": {
      "text/plain": [
       "[<matplotlib.lines.Line2D at 0x7f8728372490>]"
      ]
     },
     "execution_count": 8,
     "metadata": {},
     "output_type": "execute_result"
    },
    {
     "data": {
      "image/png": "[encoded data removed]",
      "text/plain": [
       "<Figure size 432x288 with 1 Axes>"
      ]
     },
     "metadata": {
      "needs_background": "light"
     },
     "output_type": "display_data"
    }
   ],
   "source": [
    "plt.figure(1)\n",
    "plt.plot(n, price1)\n",
    "plt.plot(n, price2)\n",
    "plt.plot(n, price3)\n",
    "plt.plot(n, price4)"
   ]
  },
  {
   "cell_type": "markdown",
   "id": "f87ea85e",
   "metadata": {},
   "source": [
    "#### Question 2\n",
    "\n",
    "#### (a)"
   ]
  },
  {
   "cell_type": "code",
   "execution_count": 9,
   "id": "c5a9c41b",
   "metadata": {
    "scrolled": true
   },
   "outputs": [
    {
     "name": "stdout",
     "output_type": "stream",
     "text": [
      "market price: $ 2485.63\n",
      "previous close price: $ 2891.93\n",
      "volatility: 0.3142586280807842\n"
     ]
    }
   ],
   "source": [
    "amzn = yf.Ticker('AMZN')\n",
    "s0 = amzn.info['regularMarketPrice']\n",
    "previous_close_price = amzn.info['regularMarketPreviousClose']\n",
    "amzn_hist = amzn.history(start=\"2017-04-30\", end=\"2022-04-29\", interval=\"1d\") # 60 months\n",
    "amzn_hist['Log returns'] = np.log(amzn_hist['Close']/amzn_hist['Close'].shift())\n",
    "sigma = amzn_hist['Log returns'].std()*252**.5\n",
    "\n",
    "print('market price: $', s0)\n",
    "print('previous close price: $', previous_close_price)\n",
    "print('volatility:', sigma)"
   ]
  },
  {
   "cell_type": "code",
   "execution_count": 10,
   "id": "667eeace",
   "metadata": {},
   "outputs": [
    {
     "name": "stdout",
     "output_type": "stream",
     "text": [
      "Strike Price (divisible by 50) is $ [2750]\n"
     ]
    }
   ],
   "source": [
    "k0 = int(s0*1.1)\n",
    "k_list = range(k0, k0+50, 1)\n",
    "k = list(filter(lambda x: (x%50==0), k_list))\n",
    "print(\"Strike Price (divisible by 50) is $\", k)\n",
    "# k = previous_close_price"
   ]
  },
  {
   "cell_type": "code",
   "execution_count": 11,
   "id": "04796428",
   "metadata": {},
   "outputs": [],
   "source": [
    "# american options\n",
    "def binom_a(s0, k, r, t, sigma, n, type_):\n",
    "    dt = t/n\n",
    "    c = (np.exp(-r*dt) + np.exp((r+sigma**2)*dt)) / 2\n",
    "    d = c - np.sqrt(c**2 - 1)\n",
    "    u = 1/d\n",
    "    p = (np.exp(r*dt)-d) / (u-d)\n",
    "    \n",
    "    # binomial price tree\n",
    "    stockvalue = np.zeros((n+1, n+1))\n",
    "    stockvalue[0, 0] = s0\n",
    "    for i in range(1,n+1):\n",
    "        stockvalue[i,0] = stockvalue[i-1,0]*u\n",
    "        for j in range(1,i+1):\n",
    "            stockvalue[i,j] = stockvalue[i-1,j-1]*d\n",
    "    \n",
    "    # option value at final node   \n",
    "    optionvalue = np.zeros((n+1,n+1))\n",
    "    for j in range(n+1):\n",
    "        if type_==\"call\":\n",
    "            optionvalue[n,j] = max(0, stockvalue[n,j]-k)\n",
    "        elif type_==\"put\":\n",
    "            optionvalue[n,j] = max(0, k-stockvalue[n,j])\n",
    "    \n",
    "    # backward calculation for option price    \n",
    "    for i in range(n-1,-1,-1):\n",
    "        for j in range(i+1):\n",
    "                if type_==\"put\":\n",
    "                    optionvalue[i,j] = max(0, k-stockvalue[i,j], \\\n",
    "                                           np.exp(-r*dt)*(p*optionvalue[i+1,j]+(1-p)*optionvalue[i+1,j+1]))\n",
    "                elif type_==\"call\":\n",
    "                    optionvalue[i,j] = max(0, stockvalue[i,j]-k, \\\n",
    "                                           np.exp(-r*dt)*(p*optionvalue[i+1,j]+(1-p)*optionvalue[i+1,j+1]))\n",
    "    \n",
    "    return optionvalue[0,0]"
   ]
  },
  {
   "cell_type": "code",
   "execution_count": 12,
   "id": "efa60b9d",
   "metadata": {},
   "outputs": [
    {
     "name": "stdout",
     "output_type": "stream",
     "text": [
      "Estimated option price is $ 176.74544322125675\n"
     ]
    }
   ],
   "source": [
    "r = 0.01\n",
    "t = 9/12 # expire in Jan 2023\n",
    "\n",
    "print('Estimated option price is $', binom_a(s0, k, r, t, sigma, 100, 'call'))"
   ]
  },
  {
   "cell_type": "markdown",
   "id": "96ec093f",
   "metadata": {},
   "source": [
    "Comment: The call option with strike price 2750 and expiration date 2023-01-20 is 219.19, which is higher than my estimation of $ 176.75. The difference may be resulted from the higher implied volatility."
   ]
  },
  {
   "cell_type": "markdown",
   "id": "a1cce71c",
   "metadata": {},
   "source": [
    "#### (b)"
   ]
  },
  {
   "cell_type": "code",
   "execution_count": 13,
   "id": "acc4532d",
   "metadata": {},
   "outputs": [
    {
     "data": {
      "text/plain": [
       "219.1942125039088"
      ]
     },
     "execution_count": 13,
     "metadata": {},
     "output_type": "execute_result"
    }
   ],
   "source": [
    "binom_a(s0, k, r, t, 0.363565, 100, 'call')"
   ]
  },
  {
   "cell_type": "markdown",
   "id": "4096e630",
   "metadata": {},
   "source": [
    "Market price of 219.19 implies that the volatility is around 0.3636, which is higher than historical 60-months volatility of 0.3143."
   ]
  },
  {
   "cell_type": "markdown",
   "id": "de2b6201",
   "metadata": {},
   "source": [
    "#### Question 3"
   ]
  },
  {
   "cell_type": "code",
   "execution_count": 14,
   "id": "eaa52ab0",
   "metadata": {},
   "outputs": [],
   "source": [
    "s0 = 49\n",
    "k = 50\n",
    "r = 0.03\n",
    "sigma = 0.2\n",
    "t = 0.3846\n",
    "mu = 0.14\n",
    "n = 100\n",
    "dt = t/n"
   ]
  },
  {
   "cell_type": "markdown",
   "id": "e0439229",
   "metadata": {},
   "source": [
    "#### (i)"
   ]
  },
  {
   "cell_type": "code",
   "execution_count": 15,
   "id": "8b023f09",
   "metadata": {},
   "outputs": [],
   "source": [
    "s0 = list(range(20, 82, 2))\n",
    "\n",
    "D1 = []\n",
    "for i in s0:\n",
    "    d = (binom_e_call_1(i+dt,k,r,t,sigma,n) - binom_e_call_1(i-dt,k,r,t,sigma,n)) / (2*dt)\n",
    "    D1.append(d)"
   ]
  },
  {
   "cell_type": "markdown",
   "id": "aad5d98b",
   "metadata": {},
   "source": [
    "#### (ii)"
   ]
  },
  {
   "cell_type": "code",
   "execution_count": 16,
   "id": "4dae8922",
   "metadata": {},
   "outputs": [],
   "source": [
    "s0 = 49\n",
    "T = list(range(0, 3846, 100))\n",
    "t = []\n",
    "for i in T:\n",
    "    t.append(i/1000)\n",
    "\n",
    "D2 = []\n",
    "for i in t:\n",
    "    d = (binom_e_call_1(s0+dt,k,r,i,sigma,n) - binom_e_call_1(s0-dt,k,r,i,sigma,n)) / (2*dt)\n",
    "    D2.append(d)"
   ]
  },
  {
   "cell_type": "markdown",
   "id": "98830e8c",
   "metadata": {},
   "source": [
    "#### (iii)"
   ]
  },
  {
   "cell_type": "code",
   "execution_count": 17,
   "id": "da737862",
   "metadata": {},
   "outputs": [],
   "source": [
    "s0 = list(range(20, 82, 2))\n",
    "t = 0.3846\n",
    "T = []\n",
    "for i in s0:\n",
    "    theta = - (binom_e_call_1(i,k,t+dt,r,sigma,n) - binom_e_call_1(i,k,t-dt,r,sigma,n)) / (2*dt)\n",
    "    T.append(theta)"
   ]
  },
  {
   "cell_type": "markdown",
   "id": "a7d8fc33",
   "metadata": {},
   "source": [
    "#### (iv)"
   ]
  },
  {
   "cell_type": "code",
   "execution_count": 18,
   "id": "90428f04",
   "metadata": {},
   "outputs": [],
   "source": [
    "s0 = list(range(20, 82, 2))\n",
    "G = []\n",
    "for i in s0: \n",
    "    d1 = (binom_e_call_1(i+dt,k,t,r,sigma,n) - binom_e_call_1(i,k,t,r,sigma,n)) / dt\n",
    "    d2 = (binom_e_call_1(i,k,t,r,sigma,n) - binom_e_call_1(i-dt,k,t,r,sigma,n)) / dt\n",
    "    g = (d1 - d2) / dt\n",
    "    G.append(g)"
   ]
  },
  {
   "cell_type": "markdown",
   "id": "04b02ce1",
   "metadata": {},
   "source": [
    "#### (v)"
   ]
  },
  {
   "cell_type": "code",
   "execution_count": 19,
   "id": "b4893690",
   "metadata": {},
   "outputs": [],
   "source": [
    "s0 = list(range(20, 82, 2))\n",
    "V = []\n",
    "for i in s0:\n",
    "    vega = (binom_e_call_1(i,k,t,r,sigma+0.01,n) - binom_e_call_1(i,k,t,r,sigma,n)) / 0.01\n",
    "    V.append(vega)"
   ]
  },
  {
   "cell_type": "markdown",
   "id": "0b3a9fd0",
   "metadata": {},
   "source": [
    "#### (vi)"
   ]
  },
  {
   "cell_type": "code",
   "execution_count": 20,
   "id": "d2432f28",
   "metadata": {},
   "outputs": [],
   "source": [
    "s0 = list(range(20, 82, 2))\n",
    "R = []\n",
    "for i in s0:\n",
    "    rho = (binom_e_call_1(i,k,t,r+0.0001,sigma,n) - binom_e_call_1(i,k,t,r,sigma,n)) / 0.0001\n",
    "    R.append(rho)"
   ]
  },
  {
   "cell_type": "code",
   "execution_count": 21,
   "id": "17e49bdc",
   "metadata": {},
   "outputs": [
    {
     "data": {
      "image/png": "[encoded data removed]",
      "text/plain": [
       "<Figure size 432x288 with 2 Axes>"
      ]
     },
     "metadata": {
      "needs_background": "light"
     },
     "output_type": "display_data"
    }
   ],
   "source": [
    "fig = plt.figure()\n",
    "ax = fig.add_subplot(111)\n",
    "ax.plot(T, label='Theta_S0')\n",
    "ax.plot(G, label='Gamma_S0')\n",
    "ax.plot(V, label='Vega_S0')\n",
    "ax.plot(R, label='Rho_S0')\n",
    "ax1 = ax.twinx()\n",
    "ax1.plot(D1, label='Delta_S0', color='grey')\n",
    "ax1.plot(D2, label='Delta_T', color='green')\n",
    "fig.legend()\n",
    "plt.show()"
   ]
  },
  {
   "cell_type": "markdown",
   "id": "2e74b503",
   "metadata": {},
   "source": [
    "#### Question 4"
   ]
  },
  {
   "cell_type": "code",
   "execution_count": 22,
   "id": "3147a8bd",
   "metadata": {},
   "outputs": [],
   "source": [
    "# european options\n",
    "def binom_e(s0, k, r, t, sigma, n, type_='call'):\n",
    "    dt = t/n\n",
    "    c = (np.exp(-r*dt) + np.exp((r+sigma**2)*dt)) / 2\n",
    "    d = c - np.sqrt(c**2 - 1)\n",
    "    u = 1/d\n",
    "    p = (np.exp(r*dt)-d) / (u-d)\n",
    "    value = 0\n",
    "    \n",
    "    for i in range(n+1):\n",
    "        node_prob = combos(n,i) * p**i * (1-p)**(n-i)\n",
    "        st = s0 * u**i * d**(n-i)\n",
    "        if type_ == 'call':\n",
    "            value += max(st-k,0) * node_prob\n",
    "        elif type_ == 'put':\n",
    "            value += max(k-st,0) * node_prob\n",
    "        else:\n",
    "            raise ValueError(\"type_ must be 'call' or 'put'\")\n",
    "    \n",
    "    return value * np.exp(-r*t)"
   ]
  },
  {
   "cell_type": "code",
   "execution_count": 23,
   "id": "1fe35b57",
   "metadata": {},
   "outputs": [],
   "source": [
    "# american options\n",
    "def binom_a(s0, k, r, t, sigma, n, type_='call'):\n",
    "    dt = t/n\n",
    "    c = (np.exp(-r*dt) + np.exp((r+sigma**2)*dt)) / 2\n",
    "    d = c - np.sqrt(c**2 - 1)\n",
    "    u = 1/d\n",
    "    p = (np.exp(r*dt)-d) / (u-d)\n",
    "    \n",
    "    # binomial price tree\n",
    "    stockvalue = np.zeros((n+1, n+1))\n",
    "    stockvalue[0, 0] = s0\n",
    "    for i in range(1,n+1):\n",
    "        stockvalue[i,0] = stockvalue[i-1,0]*u\n",
    "        for j in range(1,i+1):\n",
    "            stockvalue[i,j] = stockvalue[i-1,j-1]*d\n",
    "    \n",
    "    # option value at final node   \n",
    "    optionvalue = np.zeros((n+1,n+1))\n",
    "    for j in range(n+1):\n",
    "        if type_==\"call\":\n",
    "            optionvalue[n,j] = max(0, stockvalue[n,j]-k)\n",
    "        elif type_==\"put\":\n",
    "            optionvalue[n,j] = max(0, k-stockvalue[n,j])\n",
    "    \n",
    "    # backward calculation for option price    \n",
    "    for i in range(n-1,-1,-1):\n",
    "        for j in range(i+1):\n",
    "                if type_==\"put\":\n",
    "                    optionvalue[i,j] = max(0, k-stockvalue[i,j], \\\n",
    "                                           np.exp(-r*dt)*(p*optionvalue[i+1,j]+(1-p)*optionvalue[i+1,j+1]))\n",
    "                elif type_==\"call\":\n",
    "                    optionvalue[i,j] = max(0, stockvalue[i,j]-k, \\\n",
    "                                           np.exp(-r*dt)*(p*optionvalue[i+1,j]+(1-p)*optionvalue[i+1,j+1]))\n",
    "    \n",
    "    return optionvalue[0,0]"
   ]
  },
  {
   "cell_type": "code",
   "execution_count": 24,
   "id": "cb7f8b46",
   "metadata": {},
   "outputs": [
    {
     "data": {
      "text/plain": [
       "<matplotlib.legend.Legend at 0x7f86f00b18b0>"
      ]
     },
     "execution_count": 24,
     "metadata": {},
     "output_type": "execute_result"
    },
    {
     "data": {
      "image/png": "[encoded data removed]",
      "text/plain": [
       "<Figure size 432x288 with 1 Axes>"
      ]
     },
     "metadata": {
      "needs_background": "light"
     },
     "output_type": "display_data"
    }
   ],
   "source": [
    "s0 = list(range(80, 124, 4))\n",
    "k = 100\n",
    "r = 0.05\n",
    "t = 1\n",
    "sigma = 0.3\n",
    "n = 100\n",
    "\n",
    "q4_e = []\n",
    "for i in s0:\n",
    "    q4_e.append(binom_e(i, k, r, t, sigma, n, type_='put'))\n",
    "    \n",
    "q4_a = []\n",
    "for i in s0:\n",
    "    q4_a.append(binom_a(i, k, r, t, sigma, n, type_='put'))\n",
    "\n",
    "plt.figure(1)\n",
    "plt.plot(s0, q4_e, label='European', color='orange')\n",
    "plt.plot(s0, q4_a, label='American', color='green')\n",
    "plt.legend()"
   ]
  },
  {
   "cell_type": "markdown",
   "id": "bbf5ac63",
   "metadata": {},
   "source": [
    "Comments: Prices of American option are higher than that of European option."
   ]
  },
  {
   "cell_type": "markdown",
   "id": "997522a6",
   "metadata": {},
   "source": [
    "#### Question 5\n",
    "\n",
    "#### (a)"
   ]
  },
  {
   "cell_type": "code",
   "execution_count": 25,
   "id": "b1ef4e1b",
   "metadata": {},
   "outputs": [],
   "source": [
    "def tri(n, i, j):\n",
    "    return math.factorial(n) / (math.factorial(n-i-j)*math.factorial(i)*math.factorial(j))"
   ]
  },
  {
   "cell_type": "code",
   "execution_count": 26,
   "id": "d46ea2b7",
   "metadata": {},
   "outputs": [],
   "source": [
    "def trio_e_call(s0, k, t, r, sigma, n):\n",
    "    dt = t/n\n",
    "    d = np.exp(-sigma*np.sqrt(3*dt))\n",
    "    u = 1/d\n",
    "    m = 1 - d - u\n",
    "    pd = (r*dt*(1-u) + (r*dt)**2 + (sigma**2)*dt) / ((u-d)*(1-d))\n",
    "    pu = (r*dt*(1-d) + (r*dt)**2 + (sigma**2)*dt) / ((u-d)*(u-1))\n",
    "    pm = 1 - pd - pu\n",
    "    \n",
    "    value = 0\n",
    "    for i in range(n+1):\n",
    "        for j in range(n-i+1):\n",
    "            node_prob = tri(n, i, j)* pu**i * pm**(n-i-j) * pd**j\n",
    "            st = s0 * u**i * m**(n-i-j) * d**j\n",
    "            value += max(st-k,0) * node_prob\n",
    "    \n",
    "    return value * np.exp(-r*t)        "
   ]
  },
  {
   "cell_type": "code",
   "execution_count": 27,
   "id": "af0effc5",
   "metadata": {},
   "outputs": [],
   "source": [
    "t = 0.5\n",
    "r = 0.05\n",
    "sigma = 0.24\n",
    "s0 = 32\n",
    "k = 30\n",
    "n = [10, 15, 20, 40, 70, 80, 100, 200, 500]"
   ]
  },
  {
   "cell_type": "code",
   "execution_count": 28,
   "id": "704c2965",
   "metadata": {},
   "outputs": [],
   "source": [
    "tri_price = []\n",
    "for i in n:\n",
    "    tri_price.append(trio_e_call(s0, k, t, r, sigma, i))"
   ]
  },
  {
   "cell_type": "markdown",
   "id": "f7fab65a",
   "metadata": {},
   "source": [
    "#### (b)"
   ]
  },
  {
   "cell_type": "code",
   "execution_count": 29,
   "id": "367b969a",
   "metadata": {},
   "outputs": [],
   "source": [
    "def trio_e_logcall(s0, k, t, r, sigma, n):\n",
    "    dt = t/n\n",
    "    xu = sigma*np.sqrt(3*dt)\n",
    "    xd = -xu\n",
    "    pd = ( (sigma**2*dt + (r-sigma**2/2)**2 * dt**2)/xu**2 - (r-sigma**2/2)*dt/xu ) / 2\n",
    "    pu = ( (sigma**2*dt + (r-sigma**2/2)**2 * dt**2)/xu**2 + (r-sigma**2/2)*dt/xu ) / 2\n",
    "    pm = 1 - pu - pd\n",
    "    \n",
    "    value = 0\n",
    "    for i in range(n+1):\n",
    "        for j in range(n-i+1):\n",
    "            node_prob = tri(n, i, j)* pu**i * pm**(n-i-j) * pd**j\n",
    "            st = s0 + xu*i + xd*j\n",
    "            value += max(st-k,0) * node_prob\n",
    "    \n",
    "    return value * np.exp(-r*t)"
   ]
  },
  {
   "cell_type": "code",
   "execution_count": 30,
   "id": "676f8305",
   "metadata": {},
   "outputs": [],
   "source": [
    "tri_logprice = []\n",
    "for i in n:\n",
    "    tri_logprice.append(trio_e_logcall(s0, k, t, r, sigma, i))"
   ]
  },
  {
   "cell_type": "code",
   "execution_count": 31,
   "id": "35dcb02a",
   "metadata": {},
   "outputs": [
    {
     "data": {
      "text/plain": [
       "[<matplotlib.lines.Line2D at 0x7f871c3fe850>]"
      ]
     },
     "execution_count": 31,
     "metadata": {},
     "output_type": "execute_result"
    },
    {
     "data": {
      "image/png": "[encoded data removed]",
      "text/plain": [
       "<Figure size 432x288 with 1 Axes>"
      ]
     },
     "metadata": {
      "needs_background": "light"
     },
     "output_type": "display_data"
    }
   ],
   "source": [
    "plt.figure(1)\n",
    "plt.plot(n, tri_price)\n",
    "plt.plot(n, tri_logprice)"
   ]
  },
  {
   "cell_type": "markdown",
   "id": "784a4e62",
   "metadata": {},
   "source": [
    "#### Question 6"
   ]
  },
  {
   "cell_type": "code",
   "execution_count": 32,
   "id": "bb4dbbab",
   "metadata": {},
   "outputs": [],
   "source": [
    "def getHalton(k,base):\n",
    "    halton_base2 = []\n",
    "    \n",
    "    for i in range(1,k+1):\n",
    "        a = list()\n",
    "        while(i>0):\n",
    "            res = i%base\n",
    "            a.append(res)\n",
    "            i = i-res\n",
    "            i = i//base\n",
    "        a = np.array(a)\n",
    "        \n",
    "        sum = 0\n",
    "        for j in range(len(a)):\n",
    "            sum = sum + a[j]/(base**(j+1))\n",
    "       \n",
    "        halton_base2.append(sum)\n",
    "    return halton_base2"
   ]
  },
  {
   "cell_type": "code",
   "execution_count": 33,
   "id": "87b02d72",
   "metadata": {},
   "outputs": [],
   "source": [
    "def halton_e_call(s0, k, t, r, sigma, n, base1, base2):\n",
    "    H_base1 = getHalton(n, base1)\n",
    "    H_base2 = getHalton(n, base2)\n",
    "    df = pd.DataFrame(data={'h1':H_base1, 'h2':H_base2}).dropna(axis=0)\n",
    "    h1 = df['h1']\n",
    "    h2 = df['h2']\n",
    "    z1 = np.sqrt(-2*np.log(h1)) * np.cos(2*np.pi*h2)\n",
    "    z2 = np.sqrt(-2*np.log(h1)) * np.sin(2*np.pi*h2)\n",
    "    value = max(s0*np.exp((r-sigma**2/2)*t + sigma*np.sqrt(t)*z1) - k, 0)\n",
    "    return np.mean(value) * np.exp(-r*t)"
   ]
  },
  {
   "cell_type": "code",
   "execution_count": null,
   "id": "4a715d5d",
   "metadata": {},
   "outputs": [],
   "source": [
    "C = halton_e_call(32, 30, 0.5, 0.05, 0.24, 100, 2, 7)"
   ]
  },
  {
   "cell_type": "code",
   "execution_count": null,
   "id": "a9afd5a0",
   "metadata": {},
   "outputs": [],
   "source": []
  }
 ],
 "metadata": {
  "kernelspec": {
   "display_name": "Python 3",
   "language": "python",
   "name": "python3"
  },
  "language_info": {
   "codemirror_mode": {
    "name": "ipython",
    "version": 3
   },
   "file_extension": ".py",
   "mimetype": "text/x-python",
   "name": "python",
   "nbconvert_exporter": "python",
   "pygments_lexer": "ipython3",
   "version": "3.8.8"
  },
  "toc": {
   "base_numbering": 1,
   "nav_menu": {},
   "number_sections": false,
   "sideBar": true,
   "skip_h1_title": false,
   "title_cell": "Table of Contents",
   "title_sidebar": "Contents",
   "toc_cell": false,
   "toc_position": {
    "height": "calc(100% - 180px)",
    "left": "10px",
    "top": "150px",
    "width": "165px"
   },
   "toc_section_display": true,
   "toc_window_display": true
  }
 },
 "nbformat": 4,
 "nbformat_minor": 5
}
